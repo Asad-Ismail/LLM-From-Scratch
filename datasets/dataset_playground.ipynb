{
 "cells": [
  {
   "cell_type": "code",
   "execution_count": 4,
   "id": "9047289b",
   "metadata": {},
   "outputs": [],
   "source": [
    "from datasets import load_dataset\n",
    "import sys\n",
    "from tqdm import tqdm"
   ]
  },
  {
   "cell_type": "code",
   "execution_count": 2,
   "id": "00db9d46",
   "metadata": {},
   "outputs": [
    {
     "data": {
      "application/vnd.jupyter.widget-view+json": {
       "model_id": "1dd38de716af42edbe9586544159a644",
       "version_major": 2,
       "version_minor": 0
      },
      "text/plain": [
       "README.md:   0%|          | 0.00/28.4k [00:00<?, ?B/s]"
      ]
     },
     "metadata": {},
     "output_type": "display_data"
    },
    {
     "data": {
      "application/vnd.jupyter.widget-view+json": {
       "model_id": "424123692941406f9afb3ca64104f3f5",
       "version_major": 2,
       "version_minor": 0
      },
      "text/plain": [
       "Resolving data files:   0%|          | 0/19 [00:00<?, ?it/s]"
      ]
     },
     "metadata": {},
     "output_type": "display_data"
    },
    {
     "name": "stderr",
     "output_type": "stream",
     "text": [
      "/home/ec2-user/anaconda3/envs/python3/lib/python3.10/importlib/__init__.py:126: UserWarning: A NumPy version >=1.23.5 and <2.3.0 is required for this version of SciPy (detected version 1.22.4)\n",
      "  return _bootstrap._gcd_import(name[level:], package, level)\n"
     ]
    },
    {
     "data": {
      "application/vnd.jupyter.widget-view+json": {
       "model_id": "4f28881d81fe41b5827551573f482ae5",
       "version_major": 2,
       "version_minor": 0
      },
      "text/plain": [
       "Downloading data:   0%|          | 0/19 [00:00<?, ?files/s]"
      ]
     },
     "metadata": {},
     "output_type": "display_data"
    },
    {
     "data": {
      "application/vnd.jupyter.widget-view+json": {
       "model_id": "a5fa781a2df242869dc51483821c7a8d",
       "version_major": 2,
       "version_minor": 0
      },
      "text/plain": [
       "train-00000-of-00019.parquet:   0%|          | 0.00/293M [00:00<?, ?B/s]"
      ]
     },
     "metadata": {},
     "output_type": "display_data"
    },
    {
     "data": {
      "application/vnd.jupyter.widget-view+json": {
       "model_id": "9003d6ed3ed640e2ae6a42e1cc241255",
       "version_major": 2,
       "version_minor": 0
      },
      "text/plain": [
       "train-00001-of-00019.parquet:   0%|          | 0.00/293M [00:00<?, ?B/s]"
      ]
     },
     "metadata": {},
     "output_type": "display_data"
    },
    {
     "data": {
      "application/vnd.jupyter.widget-view+json": {
       "model_id": "34b64289e7b74fd086b81605cb1e441d",
       "version_major": 2,
       "version_minor": 0
      },
      "text/plain": [
       "train-00002-of-00019.parquet:   0%|          | 0.00/293M [00:00<?, ?B/s]"
      ]
     },
     "metadata": {},
     "output_type": "display_data"
    },
    {
     "data": {
      "application/vnd.jupyter.widget-view+json": {
       "model_id": "97e8070e4fcf4fbe8a103c5f1b5b9626",
       "version_major": 2,
       "version_minor": 0
      },
      "text/plain": [
       "train-00003-of-00019.parquet:   0%|          | 0.00/293M [00:00<?, ?B/s]"
      ]
     },
     "metadata": {},
     "output_type": "display_data"
    },
    {
     "data": {
      "application/vnd.jupyter.widget-view+json": {
       "model_id": "910d259c309d478da8e1015e2965f71b",
       "version_major": 2,
       "version_minor": 0
      },
      "text/plain": [
       "train-00004-of-00019.parquet:   0%|          | 0.00/291M [00:00<?, ?B/s]"
      ]
     },
     "metadata": {},
     "output_type": "display_data"
    },
    {
     "data": {
      "application/vnd.jupyter.widget-view+json": {
       "model_id": "28989b6cf79e4704b16846c970735ac7",
       "version_major": 2,
       "version_minor": 0
      },
      "text/plain": [
       "train-00005-of-00019.parquet:   0%|          | 0.00/293M [00:00<?, ?B/s]"
      ]
     },
     "metadata": {},
     "output_type": "display_data"
    },
    {
     "data": {
      "application/vnd.jupyter.widget-view+json": {
       "model_id": "888187fb000d4935bdd16399d68226c4",
       "version_major": 2,
       "version_minor": 0
      },
      "text/plain": [
       "train-00006-of-00019.parquet:   0%|          | 0.00/291M [00:00<?, ?B/s]"
      ]
     },
     "metadata": {},
     "output_type": "display_data"
    },
    {
     "data": {
      "application/vnd.jupyter.widget-view+json": {
       "model_id": "dfd09f7873dc4e9ababc19399458bf28",
       "version_major": 2,
       "version_minor": 0
      },
      "text/plain": [
       "train-00007-of-00019.parquet:   0%|          | 0.00/294M [00:00<?, ?B/s]"
      ]
     },
     "metadata": {},
     "output_type": "display_data"
    },
    {
     "data": {
      "application/vnd.jupyter.widget-view+json": {
       "model_id": "27e65860212f481ea65f27a1767eff57",
       "version_major": 2,
       "version_minor": 0
      },
      "text/plain": [
       "train-00008-of-00019.parquet:   0%|          | 0.00/294M [00:00<?, ?B/s]"
      ]
     },
     "metadata": {},
     "output_type": "display_data"
    },
    {
     "data": {
      "application/vnd.jupyter.widget-view+json": {
       "model_id": "2265ac6bb44743ab9efbf0ef5d971fd6",
       "version_major": 2,
       "version_minor": 0
      },
      "text/plain": [
       "train-00009-of-00019.parquet:   0%|          | 0.00/293M [00:00<?, ?B/s]"
      ]
     },
     "metadata": {},
     "output_type": "display_data"
    },
    {
     "data": {
      "application/vnd.jupyter.widget-view+json": {
       "model_id": "f423920e81444ea38011ecd6a561573f",
       "version_major": 2,
       "version_minor": 0
      },
      "text/plain": [
       "train-00010-of-00019.parquet:   0%|          | 0.00/293M [00:00<?, ?B/s]"
      ]
     },
     "metadata": {},
     "output_type": "display_data"
    },
    {
     "data": {
      "application/vnd.jupyter.widget-view+json": {
       "model_id": "cea81f472a93419f9a2067158a3e8ab4",
       "version_major": 2,
       "version_minor": 0
      },
      "text/plain": [
       "train-00011-of-00019.parquet:   0%|          | 0.00/293M [00:00<?, ?B/s]"
      ]
     },
     "metadata": {},
     "output_type": "display_data"
    },
    {
     "data": {
      "application/vnd.jupyter.widget-view+json": {
       "model_id": "40e008f901e7419fb2164a7e2b941ebb",
       "version_major": 2,
       "version_minor": 0
      },
      "text/plain": [
       "train-00012-of-00019.parquet:   0%|          | 0.00/293M [00:00<?, ?B/s]"
      ]
     },
     "metadata": {},
     "output_type": "display_data"
    },
    {
     "data": {
      "application/vnd.jupyter.widget-view+json": {
       "model_id": "fb26c3f3f21549dfbe31b72626e5cd12",
       "version_major": 2,
       "version_minor": 0
      },
      "text/plain": [
       "train-00013-of-00019.parquet:   0%|          | 0.00/292M [00:00<?, ?B/s]"
      ]
     },
     "metadata": {},
     "output_type": "display_data"
    },
    {
     "data": {
      "application/vnd.jupyter.widget-view+json": {
       "model_id": "94138546930a46fba4b2196df0c2b19d",
       "version_major": 2,
       "version_minor": 0
      },
      "text/plain": [
       "train-00014-of-00019.parquet:   0%|          | 0.00/293M [00:00<?, ?B/s]"
      ]
     },
     "metadata": {},
     "output_type": "display_data"
    },
    {
     "data": {
      "application/vnd.jupyter.widget-view+json": {
       "model_id": "1bcdacd60d4a47d3a29c919f3af6f2d2",
       "version_major": 2,
       "version_minor": 0
      },
      "text/plain": [
       "train-00015-of-00019.parquet:   0%|          | 0.00/292M [00:00<?, ?B/s]"
      ]
     },
     "metadata": {},
     "output_type": "display_data"
    },
    {
     "data": {
      "application/vnd.jupyter.widget-view+json": {
       "model_id": "ef1a4702ee7d44ddbe8d710317650bc4",
       "version_major": 2,
       "version_minor": 0
      },
      "text/plain": [
       "train-00016-of-00019.parquet:   0%|          | 0.00/292M [00:00<?, ?B/s]"
      ]
     },
     "metadata": {},
     "output_type": "display_data"
    },
    {
     "data": {
      "application/vnd.jupyter.widget-view+json": {
       "model_id": "3a420c71aa4f4b6c877a9858fe496e48",
       "version_major": 2,
       "version_minor": 0
      },
      "text/plain": [
       "train-00017-of-00019.parquet:   0%|          | 0.00/292M [00:00<?, ?B/s]"
      ]
     },
     "metadata": {},
     "output_type": "display_data"
    },
    {
     "data": {
      "application/vnd.jupyter.widget-view+json": {
       "model_id": "5466d3f5faf94f498cc4df09b4769926",
       "version_major": 2,
       "version_minor": 0
      },
      "text/plain": [
       "train-00018-of-00019.parquet:   0%|          | 0.00/293M [00:00<?, ?B/s]"
      ]
     },
     "metadata": {},
     "output_type": "display_data"
    },
    {
     "data": {
      "application/vnd.jupyter.widget-view+json": {
       "model_id": "21e40a44b78a48aea717634fe8f6c837",
       "version_major": 2,
       "version_minor": 0
      },
      "text/plain": [
       "validation-00000-of-00002.parquet:   0%|          | 0.00/156M [00:00<?, ?B/s]"
      ]
     },
     "metadata": {},
     "output_type": "display_data"
    },
    {
     "data": {
      "application/vnd.jupyter.widget-view+json": {
       "model_id": "e628d03117bb4bf49313b99f995a9c33",
       "version_major": 2,
       "version_minor": 0
      },
      "text/plain": [
       "validation-00001-of-00002.parquet:   0%|          | 0.00/157M [00:00<?, ?B/s]"
      ]
     },
     "metadata": {},
     "output_type": "display_data"
    },
    {
     "data": {
      "application/vnd.jupyter.widget-view+json": {
       "model_id": "75e3fac104cd470f8288b01825b96c60",
       "version_major": 2,
       "version_minor": 0
      },
      "text/plain": [
       "test-00000-of-00002.parquet:   0%|          | 0.00/154M [00:00<?, ?B/s]"
      ]
     },
     "metadata": {},
     "output_type": "display_data"
    },
    {
     "data": {
      "application/vnd.jupyter.widget-view+json": {
       "model_id": "6489435a01b340d2981bfec05d236680",
       "version_major": 2,
       "version_minor": 0
      },
      "text/plain": [
       "test-00001-of-00002.parquet:   0%|          | 0.00/155M [00:00<?, ?B/s]"
      ]
     },
     "metadata": {},
     "output_type": "display_data"
    },
    {
     "data": {
      "application/vnd.jupyter.widget-view+json": {
       "model_id": "b57c4ef07e7c486592ef44e9c2715d3b",
       "version_major": 2,
       "version_minor": 0
      },
      "text/plain": [
       "Generating train split:   0%|          | 0/2926536 [00:00<?, ? examples/s]"
      ]
     },
     "metadata": {},
     "output_type": "display_data"
    },
    {
     "data": {
      "application/vnd.jupyter.widget-view+json": {
       "model_id": "cddbde1c90924be9bf10a4e8ab00635a",
       "version_major": 2,
       "version_minor": 0
      },
      "text/plain": [
       "Generating validation split:   0%|          | 0/163597 [00:00<?, ? examples/s]"
      ]
     },
     "metadata": {},
     "output_type": "display_data"
    },
    {
     "data": {
      "application/vnd.jupyter.widget-view+json": {
       "model_id": "5ca2f3c15cee47b8addaf743397667cc",
       "version_major": 2,
       "version_minor": 0
      },
      "text/plain": [
       "Generating test split:   0%|          | 0/162274 [00:00<?, ? examples/s]"
      ]
     },
     "metadata": {},
     "output_type": "display_data"
    },
    {
     "data": {
      "application/vnd.jupyter.widget-view+json": {
       "model_id": "23fb421e154945dba6a1e92c20ee28e1",
       "version_major": 2,
       "version_minor": 0
      },
      "text/plain": [
       "Loading dataset shards:   0%|          | 0/19 [00:00<?, ?it/s]"
      ]
     },
     "metadata": {},
     "output_type": "display_data"
    }
   ],
   "source": [
    "dataset = load_dataset('wiki40b', 'en')"
   ]
  },
  {
   "cell_type": "code",
   "execution_count": 3,
   "id": "2814042d",
   "metadata": {},
   "outputs": [
    {
     "name": "stdout",
     "output_type": "stream",
     "text": [
      "Number of training examples: 2926536\n"
     ]
    }
   ],
   "source": [
    "train_dataset = dataset['train']\n",
    "print(f\"Number of training examples: {len(train_dataset)}\")"
   ]
  },
  {
   "cell_type": "code",
   "execution_count": 5,
   "id": "f1ccd8e8",
   "metadata": {},
   "outputs": [
    {
     "name": "stderr",
     "output_type": "stream",
     "text": [
      "Processing dataset: 100%|██████████| 2926536/2926536 [04:51<00:00, 10052.89it/s]"
     ]
    },
    {
     "name": "stdout",
     "output_type": "stream",
     "text": [
      "Total size of the dataset: 15.28 GB\n",
      "Total number of words in the dataset: 1447863712\n"
     ]
    },
    {
     "name": "stderr",
     "output_type": "stream",
     "text": [
      "\n"
     ]
    }
   ],
   "source": [
    "def calculate_dataset_size_and_word_count(dataset):\n",
    "    # Initialize variables\n",
    "    total_size_bytes = 0\n",
    "    total_word_count = 0\n",
    "\n",
    "    # Iterate through the dataset with progress tracking\n",
    "    for example in tqdm(dataset, desc=\"Processing dataset\"):\n",
    "        # Calculate the size of the example in bytes\n",
    "        example_size_bytes = sys.getsizeof(str(example))\n",
    "        total_size_bytes += example_size_bytes\n",
    "        \n",
    "        # Count the number of words in the example\n",
    "        text = example['text']\n",
    "        word_count = len(text.split())\n",
    "        total_word_count += word_count\n",
    "\n",
    "    # Convert total size from bytes to GBs\n",
    "    total_size_gb = total_size_bytes / (1024 ** 3)\n",
    "\n",
    "    return total_size_gb, total_word_count\n",
    "\n",
    "\n",
    "# Calculate the size and word count\n",
    "total_size_gb, total_word_count = calculate_dataset_size_and_word_count(train_dataset)\n",
    "\n",
    "# Print the results\n",
    "print(f\"Total size of the dataset: {total_size_gb:.2f} GB\")\n",
    "print(f\"Total number of words in the dataset: {total_word_count}\")"
   ]
  },
  {
   "cell_type": "code",
   "execution_count": 10,
   "id": "c9da9815",
   "metadata": {},
   "outputs": [
    {
     "name": "stdout",
     "output_type": "stream",
     "text": [
      "Total number of words in the dataset: 1.45 billions\n"
     ]
    }
   ],
   "source": [
    "total_words_m = total_word_count /  1_000_000_000\n",
    "print(f\"Total number of words in the dataset: {total_words_m:.2f} billions\")"
   ]
  },
  {
   "cell_type": "code",
   "execution_count": null,
   "id": "ea29fac8",
   "metadata": {},
   "outputs": [],
   "source": []
  }
 ],
 "metadata": {
  "kernelspec": {
   "display_name": "conda_python3",
   "language": "python",
   "name": "conda_python3"
  },
  "language_info": {
   "codemirror_mode": {
    "name": "ipython",
    "version": 3
   },
   "file_extension": ".py",
   "mimetype": "text/x-python",
   "name": "python",
   "nbconvert_exporter": "python",
   "pygments_lexer": "ipython3",
   "version": "3.10.14"
  }
 },
 "nbformat": 4,
 "nbformat_minor": 5
}
