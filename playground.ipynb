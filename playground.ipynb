{
 "cells": [
  {
   "cell_type": "code",
   "execution_count": 5,
   "id": "44a1e795",
   "metadata": {},
   "outputs": [
    {
     "name": "stdout",
     "output_type": "stream",
     "text": [
      "The autoreload extension is already loaded. To reload it, use:\n",
      "  %reload_ext autoreload\n"
     ]
    }
   ],
   "source": [
    "%load_ext autoreload\n",
    "%autoreload 2"
   ]
  },
  {
   "cell_type": "code",
   "execution_count": 8,
   "id": "2ac4e757",
   "metadata": {},
   "outputs": [
    {
     "name": "stdout",
     "output_type": "stream",
     "text": [
      "/opt/conda/bin/python\n"
     ]
    },
    {
     "name": "stdout",
     "output_type": "stream",
     "text": [
      "Requirement already satisfied: tqdm in /opt/conda/lib/python3.11/site-packages (4.66.5)\n"
     ]
    }
   ],
   "source": [
    "!which python\n",
    "!pip install tqdm"
   ]
  },
  {
   "cell_type": "code",
   "execution_count": 9,
   "id": "1449aedf",
   "metadata": {},
   "outputs": [
    {
     "ename": "ModuleNotFoundError",
     "evalue": "No module named 'tqmd'",
     "output_type": "error",
     "traceback": [
      "\u001b[0;31m---------------------------------------------------------------------------\u001b[0m",
      "\u001b[0;31mModuleNotFoundError\u001b[0m                       Traceback (most recent call last)",
      "Cell \u001b[0;32mIn[9], line 1\u001b[0m\n\u001b[0;32m----> 1\u001b[0m \u001b[38;5;28;01mimport\u001b[39;00m \u001b[38;5;21;01mtokenizers\u001b[39;00m\n",
      "File \u001b[0;32m~/LLM-From-Scratch/tokenizers/__init__.py:3\u001b[0m\n\u001b[1;32m      1\u001b[0m \u001b[38;5;28;01mfrom\u001b[39;00m \u001b[38;5;21;01m.\u001b[39;00m\u001b[38;5;21;01mbase\u001b[39;00m \u001b[38;5;28;01mimport\u001b[39;00m Tokenizer\n\u001b[1;32m      2\u001b[0m \u001b[38;5;28;01mfrom\u001b[39;00m \u001b[38;5;21;01m.\u001b[39;00m\u001b[38;5;21;01mbasic\u001b[39;00m \u001b[38;5;28;01mimport\u001b[39;00m BasicTokenizer\n\u001b[0;32m----> 3\u001b[0m \u001b[38;5;28;01mfrom\u001b[39;00m \u001b[38;5;21;01m.\u001b[39;00m\u001b[38;5;21;01mregex\u001b[39;00m \u001b[38;5;28;01mimport\u001b[39;00m RegexTokenizer\n",
      "File \u001b[0;32m~/LLM-From-Scratch/tokenizers/regex.py:13\u001b[0m\n\u001b[1;32m      1\u001b[0m \u001b[38;5;124;03m\"\"\"\u001b[39;00m\n\u001b[1;32m      2\u001b[0m \u001b[38;5;124;03mMinimal (byte-level) Byte Pair Encoding tokenizer.\u001b[39;00m\n\u001b[1;32m      3\u001b[0m \n\u001b[0;32m   (...)\u001b[0m\n\u001b[1;32m      9\u001b[0m \u001b[38;5;124;03m- RegexTokenizer handles optional special tokens.\u001b[39;00m\n\u001b[1;32m     10\u001b[0m \u001b[38;5;124;03m\"\"\"\u001b[39;00m\n\u001b[1;32m     12\u001b[0m \u001b[38;5;28;01mimport\u001b[39;00m \u001b[38;5;21;01mregex\u001b[39;00m \u001b[38;5;28;01mas\u001b[39;00m \u001b[38;5;21;01mre\u001b[39;00m\n\u001b[0;32m---> 13\u001b[0m \u001b[38;5;28;01mfrom\u001b[39;00m \u001b[38;5;21;01mtqmd\u001b[39;00m \u001b[38;5;28;01mimport\u001b[39;00m tqdm\n\u001b[1;32m     14\u001b[0m \u001b[38;5;28;01mfrom\u001b[39;00m \u001b[38;5;21;01m.\u001b[39;00m\u001b[38;5;21;01mbase\u001b[39;00m \u001b[38;5;28;01mimport\u001b[39;00m Tokenizer, get_stats, merge\n\u001b[1;32m     17\u001b[0m \u001b[38;5;66;03m# the main GPT text split patterns, see\u001b[39;00m\n\u001b[1;32m     18\u001b[0m \u001b[38;5;66;03m# https://github.com/openai/tiktoken/blob/main/tiktoken_ext/openai_public.py\u001b[39;00m\n",
      "\u001b[0;31mModuleNotFoundError\u001b[0m: No module named 'tqmd'"
     ]
    }
   ],
   "source": [
    "import tokenizers"
   ]
  },
  {
   "cell_type": "code",
   "execution_count": null,
   "id": "db6257d5",
   "metadata": {},
   "outputs": [],
   "source": [
    "from tokenizers import RegexTokenizer\n",
    "tokenizer = RegexTokenizer()"
   ]
  },
  {
   "cell_type": "code",
   "execution_count": null,
   "id": "3174bf86",
   "metadata": {},
   "outputs": [],
   "source": [
    "file_path = 'data/taylorswift.txt'\n",
    "with open(file_path, 'r') as file:\n",
    "    file_content = file.read()\n"
   ]
  },
  {
   "cell_type": "code",
   "execution_count": null,
   "id": "c41a62e2",
   "metadata": {},
   "outputs": [],
   "source": [
    "file_content"
   ]
  },
  {
   "cell_type": "code",
   "execution_count": null,
   "id": "819c2d98",
   "metadata": {},
   "outputs": [],
   "source": [
    "very_long_training_string=file_content"
   ]
  },
  {
   "cell_type": "code",
   "execution_count": null,
   "id": "af753f56",
   "metadata": {},
   "outputs": [],
   "source": [
    "tokenizer.train(very_long_training_string, vocab_size=100000)"
   ]
  },
  {
   "cell_type": "code",
   "execution_count": null,
   "id": "2ce40b18",
   "metadata": {},
   "outputs": [],
   "source": [
    "tokenizer.encode(\"hello world\") # string -> tokens\n",
    "tokenizer.decode([1000, 2000, 3000]) # tokens -> string\n",
    "tokenizer.save(\"tok32k\") # writes tok32k.model and tok32k.vocab\n",
    "tokenizer.load(\"tok32k.model\") # loads the model back from disk"
   ]
  }
 ],
 "metadata": {
  "kernelspec": {
   "display_name": "base",
   "language": "python",
   "name": "python3"
  },
  "language_info": {
   "codemirror_mode": {
    "name": "ipython",
    "version": 3
   },
   "file_extension": ".py",
   "mimetype": "text/x-python",
   "name": "python",
   "nbconvert_exporter": "python",
   "pygments_lexer": "ipython3",
   "version": "3.11.9"
  }
 },
 "nbformat": 4,
 "nbformat_minor": 5
}
